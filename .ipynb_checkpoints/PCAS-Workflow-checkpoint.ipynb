{
 "cells": [
  {
   "cell_type": "markdown",
   "metadata": {},
   "source": [
    "# 23S rRNA CRs&Primer Workflow"
   ]
  },
  {
   "cell_type": "markdown",
   "metadata": {},
   "source": [
    "## 0. Preprocess"
   ]
  },
  {
   "cell_type": "markdown",
   "metadata": {},
   "source": [
    "### Conda Env"
   ]
  },
  {
   "cell_type": "markdown",
   "metadata": {},
   "source": [
    "PrimerProspector:   \n",
    "`conda install primerprospector`"
   ]
  },
  {
   "cell_type": "markdown",
   "metadata": {},
   "source": [
    "### Sliva LSU"
   ]
  },
  {
   "cell_type": "markdown",
   "metadata": {},
   "source": [
    "Silva LSU 132 Full-align:   \n",
    "https://www.arb-silva.de/no_cache/download/archive/release_132/Exports/"
   ]
  },
  {
   "cell_type": "markdown",
   "metadata": {},
   "source": [
    "### Marker   \n",
    "23s_Ecoli.K-12substr.MG1655.fa_mark_order.txt"
   ]
  },
  {
   "cell_type": "markdown",
   "metadata": {},
   "source": [
    "`mark_ref_order.R`   \n",
    "对unaligned的一条序列进行位置注释"
   ]
  },
  {
   "cell_type": "markdown",
   "metadata": {},
   "source": [
    "### Split fasta&taxa"
   ]
  },
  {
   "cell_type": "markdown",
   "metadata": {},
   "source": [
    "`SILVA_2_fa_tax.py`"
   ]
  },
  {
   "cell_type": "markdown",
   "metadata": {},
   "source": [
    "## 1. CRs Finding"
   ]
  },
  {
   "cell_type": "markdown",
   "metadata": {},
   "source": [
    "`conserved_region_summary.sh`"
   ]
  },
  {
   "cell_type": "code",
   "execution_count": 2,
   "metadata": {},
   "outputs": [
    {
     "name": "stdout",
     "output_type": "stream",
     "text": [
      "Usage: conserved_region_summary.sh input_full_aligned_fasta Ecoli_MG1655_make_order step_width script_folder\n",
      "Example:sh /thinker/net/biosoft/ytan_tools/conserved_region_summary.sh Archaea.fa Ecoli.K-12substr.MG1655.fa_mark_order.txt 7 /thinker/net/biosoft/ytan_tools/\n",
      "\n",
      "input_full_aligned_fasta - The full-aligned fa.\n",
      "Ecoli_MG1655_make_order - The path to Ecoli_MG1655_make_order file.\n",
      "step_width - step_width used for summary, default is 7.\n",
      "script_folder - the folder of scripts.\n"
     ]
    }
   ],
   "source": [
    "echo \"Usage: conserved_region_summary.sh input_full_aligned_fasta Ecoli_MG1655_make_order step_width script_folder\"\n",
    "echo \"Example:sh /thinker/net/biosoft/ytan_tools/conserved_region_summary.sh Archaea.fa Ecoli.K-12substr.MG1655.fa_mark_order.txt 7 /thinker/net/biosoft/ytan_tools/\"\n",
    "echo \"\"\n",
    "echo \"input_full_aligned_fasta - The full-aligned fa.\"\n",
    "echo \"Ecoli_MG1655_make_order - The path to Ecoli_MG1655_make_order file.\"\n",
    "echo \"step_width - step_width used for summary, default is 7.\"\n",
    "echo \"script_folder - the folder of scripts.\""
   ]
  },
  {
   "cell_type": "markdown",
   "metadata": {},
   "source": [
    "### step 1, check the fa file length   \n",
    "`summary_aligned_ref_length.py`   \n",
    "检查aligned_ref的长度"
   ]
  },
  {
   "cell_type": "markdown",
   "metadata": {},
   "source": [
    "### step 2, count the ATCG frequency by R   \n",
    "`count_freq_micro_database.R`   \n",
    "计算aligned_silva的每个位置的ATCG出现频率"
   ]
  },
  {
   "cell_type": "markdown",
   "metadata": {},
   "source": [
    "### step 3, summary the ATCG frequency by R and find the highly conserved region   \n",
    "`summary_freq.R`   \n",
    "对具体的ATCG比例的连贯性进行统计"
   ]
  },
  {
   "cell_type": "markdown",
   "metadata": {},
   "source": [
    "### [Optional]\n",
    "`SILVA_conserved_region_summary_loop_phylum.sh`    \n",
    "对SILVAalign的每个门下面的每个界进行保守度统计的命令"
   ]
  },
  {
   "cell_type": "markdown",
   "metadata": {},
   "source": [
    "## 2. Primer Design"
   ]
  },
  {
   "cell_type": "markdown",
   "metadata": {},
   "source": [
    "跟据23S保守序列设计引物 "
   ]
  },
  {
   "cell_type": "markdown",
   "metadata": {},
   "source": []
  },
  {
   "cell_type": "markdown",
   "metadata": {},
   "source": [
    "## 3. Primer Coverage"
   ]
  },
  {
   "cell_type": "markdown",
   "metadata": {},
   "source": [
    "### Primer coverage estimator"
   ]
  },
  {
   "cell_type": "markdown",
   "metadata": {},
   "source": [
    "`primer_coverage_estimator.sh`    \n",
    "统计单一引物的覆盖度情况的整体流程"
   ]
  },
  {
   "cell_type": "code",
   "execution_count": 4,
   "metadata": {},
   "outputs": [
    {
     "name": "stdout",
     "output_type": "stream",
     "text": [
      "Usage: primer_coverage_estimator.sh input_unaligned_fasta primer_f primer_r script_folder input_strain_tax input_unaligned_fasta_full_ID all_ID_folder fa_f_sub \n",
      "Example:sh /thinker/net/biosoft/ytan_tools/primer_coverage_estimator.sh /thinker/net/biosoft/16S_ref_databases/SILVA132_EZ18_GG138/SILVA132-EZMay2018-GG13_8_merged_grouped.fa /thinker/net/ytan/microbiome_proj/Primer_prospector_test/primers/Primers_515Yf.txt 515Yf /thinker/net/biosoft/ytan_tools/ /thinker/net/biosoft/16S_ref_databases/SILVA132_EZ18_GG138/SILVA132-EZMay2018-GG13_8_merged_7LV_uniq_strain.tax /thinker/net/biosoft/16S_ref_databases/SILVA132_EZ18_GG138/SILVA132-EZMay2018-GG13_8_merged_grouped_full_ID.txt /thinker/net/biosoft/16S_ref_databases/SILVA132_EZ18_GG138/intermediate/ SILVA132-EZMay2018-GG13_8_merged_grouped\n",
      "\n",
      "input_unaligned_fasta - The unaligned fa, all Us must be convered to Ts already.\n",
      "primer - The path to the forward primer.\n",
      "primer_name - The name of the forward primer.\n",
      "script_folder - the folder of scripts.\n",
      "input_strain_tax - the strain tax file (such as SILVA132-EZMay2018-GG13_8_merged_7LV_uniq_strain.tax) of the input_unaligned_fasta.\n",
      "input_unaligned_fasta_full_ID - the full ID file (such as SILVA132-EZMay2018-GG13_8_merged_grouped_full_ID.txt) of the input_unaligned_fasta.\n",
      "all_ID_folder - the folder path of all_Dx_id_txt of all level\n",
      "fa_f_sub - the sub-str of fa file name：(such as SILVA132-EZMay2018-GG13_8_merged_grouped)\n"
     ]
    }
   ],
   "source": [
    "echo \"Usage: primer_coverage_estimator.sh input_unaligned_fasta primer_f primer_r script_folder input_strain_tax input_unaligned_fasta_full_ID all_ID_folder fa_f_sub \"\n",
    "echo \"Example:sh /thinker/net/biosoft/ytan_tools/primer_coverage_estimator.sh /thinker/net/biosoft/16S_ref_databases/SILVA132_EZ18_GG138/SILVA132-EZMay2018-GG13_8_merged_grouped.fa /thinker/net/ytan/microbiome_proj/Primer_prospector_test/primers/Primers_515Yf.txt 515Yf /thinker/net/biosoft/ytan_tools/ /thinker/net/biosoft/16S_ref_databases/SILVA132_EZ18_GG138/SILVA132-EZMay2018-GG13_8_merged_7LV_uniq_strain.tax /thinker/net/biosoft/16S_ref_databases/SILVA132_EZ18_GG138/SILVA132-EZMay2018-GG13_8_merged_grouped_full_ID.txt /thinker/net/biosoft/16S_ref_databases/SILVA132_EZ18_GG138/intermediate/ SILVA132-EZMay2018-GG13_8_merged_grouped\"\n",
    "echo \"\"\n",
    "echo \"input_unaligned_fasta - The unaligned fa, all Us must be convered to Ts already.\"\n",
    "echo \"primer - The path to the forward primer.\"\n",
    "echo \"primer_name - The name of the forward primer.\"\n",
    "echo \"script_folder - the folder of scripts.\"\n",
    "echo \"input_strain_tax - the strain tax file (such as SILVA132-EZMay2018-GG13_8_merged_7LV_uniq_strain.tax) of the input_unaligned_fasta.\"\n",
    "echo \"input_unaligned_fasta_full_ID - the full ID file (such as SILVA132-EZMay2018-GG13_8_merged_grouped_full_ID.txt) of the input_unaligned_fasta.\"\n",
    "echo \"all_ID_folder - the folder path of all_Dx_id_txt of all level\"\n",
    "echo \"fa_f_sub - the sub-str of fa file name：(such as SILVA132-EZMay2018-GG13_8_merged_grouped)\"   "
   ]
  },
  {
   "cell_type": "code",
   "execution_count": 9,
   "metadata": {},
   "outputs": [
    {
     "name": "stdout",
     "output_type": "stream",
     "text": [
      "/home/junyuchen/Lab/23S-rRNA/PCAS\n",
      "\u001b[0m\u001b[01;34mCRs-Finding\u001b[0m      LICENSE              \u001b[01;34mPrimer-Coverage-Est\u001b[0m\n",
      "\u001b[01;34mData-Processing\u001b[0m  PCAS-Workflow.ipynb  README.md\n"
     ]
    }
   ],
   "source": [
    "pwd && ls"
   ]
  },
  {
   "cell_type": "code",
   "execution_count": null,
   "metadata": {},
   "outputs": [],
   "source": [
    "sh /home/junyuchen/Lab/23S-rRNA/PCAS/Primer-Coverage-Est/primer_coverage_estimator.sh"
   ]
  },
  {
   "cell_type": "code",
   "execution_count": null,
   "metadata": {},
   "outputs": [],
   "source": [
    "/home/junyuchen/Lab/23S-rRNA/Rawdata/Bacteria.fasta"
   ]
  },
  {
   "cell_type": "code",
   "execution_count": null,
   "metadata": {},
   "outputs": [],
   "source": [
    "Lab/23S-rRNA/Rawdata/SILVA_132_LSURef.fasta"
   ]
  },
  {
   "cell_type": "code",
   "execution_count": null,
   "metadata": {},
   "outputs": [],
   "source": [
    "/home/junyuchen/Lab/23S-rRNA/PCAS/Primers/L-B1921af.txt L-B1921af"
   ]
  },
  {
   "cell_type": "code",
   "execution_count": null,
   "metadata": {},
   "outputs": [],
   "source": [
    "/home/junyuchen/Lab/23S-rRNA/PCAS/Primer-Coverage-Est"
   ]
  },
  {
   "cell_type": "code",
   "execution_count": null,
   "metadata": {},
   "outputs": [],
   "source": [
    "/home/junyuchen/Lab/23S-rRNA/Rawdata/SILVA_132_LSURef.tax"
   ]
  },
  {
   "cell_type": "code",
   "execution_count": null,
   "metadata": {},
   "outputs": [],
   "source": [
    "/home/junyuchen/Lab/23S-rRNA/Rawdata/SILVA_132_LSURef_full_ID.txt"
   ]
  },
  {
   "cell_type": "code",
   "execution_count": null,
   "metadata": {},
   "outputs": [],
   "source": [
    "/home/junyuchen/Lab/23S-rRNA/Rawdata/all_ID"
   ]
  },
  {
   "cell_type": "code",
   "execution_count": 11,
   "metadata": {},
   "outputs": [
    {
     "name": "stdout",
     "output_type": "stream",
     "text": [
      "(pcas) "
     ]
    },
    {
     "ename": "",
     "evalue": "1",
     "output_type": "error",
     "traceback": []
    }
   ],
   "source": [
    "conda activate pcas"
   ]
  },
  {
   "cell_type": "code",
   "execution_count": 12,
   "metadata": {},
   "outputs": [
    {
     "name": "stdout",
     "output_type": "stream",
     "text": [
      "step 1, analyze_primers on target fa using Primer seqs.\n",
      "Thu Jan 30 16:58:31 CST 2020\n",
      "/home/junyuchen/Biosoft/anaconda3/envs/pcas/lib/python2.7/site-packages/matplotlib/font_manager.py:273: UserWarning: Matplotlib is building the font cache using fc-list. This may take a moment.\n",
      "  warnings.warn('Matplotlib is building the font cache using fc-list. This may take a moment.')\n",
      "Traceback (most recent call last):\n",
      "  File \"/home/junyuchen/Biosoft/anaconda3/envs/pcas/bin/analyze_primers.py\", line 168, in <module>\n",
      "    main()\n",
      "  File \"/home/junyuchen/Biosoft/anaconda3/envs/pcas/bin/analyze_primers.py\", line 163, in main\n",
      "    tp_gap, non_tp_gap)\n",
      "  File \"/home/junyuchen/Biosoft/anaconda3/envs/pcas/lib/python2.7/site-packages/primerprospector/analyze_primers.py\", line 936, in analyze_primers\n",
      "    primers = get_primers(primers_data, primer_name, primer_sequence)\n",
      "  File \"/home/junyuchen/Biosoft/anaconda3/envs/pcas/lib/python2.7/site-packages/primerprospector/analyze_primers.py\", line 638, in get_primers\n",
      "    raw_primers = parse_formatted_primers_data(primers_data)\n",
      "  File \"/home/junyuchen/Biosoft/anaconda3/envs/pcas/lib/python2.7/site-packages/primerprospector/parse.py\", line 106, in parse_formatted_primers_data\n",
      "    'given as primer_name<tab>primer_sequence.')\n",
      "IndexError: Incorrect file format for input primers file. Comments should be preceeded by \"#\" and the primers should be given as primer_name<tab>primer_sequence.\n",
      "\n",
      "Warning: The file L-B1921af _ SILVA_132_LSURef _hits.txt was not generated in primer_coverage_estimator.sh step2 failed, exit.\n",
      "\n",
      "(pcas) "
     ]
    },
    {
     "ename": "",
     "evalue": "1",
     "output_type": "error",
     "traceback": []
    }
   ],
   "source": [
    "sh /home/junyuchen/Lab/23S-rRNA/PCAS/Primer-Coverage-Est/primer_coverage_estimator.sh /home/junyuchen/Lab/23S-rRNA/Rawdata/SILVA_132_LSURef.fasta /home/junyuchen/Lab/23S-rRNA/PCAS/Primers/L-B1921af.txt L-B1921af /home/junyuchen/Lab/23S-rRNA/PCAS/Primer-Coverage-Est /home/junyuchen/Lab/23S-rRNA/Rawdata/SILVA_132_LSURef.tax /home/junyuchen/Lab/23S-rRNA/Rawdata/SILVA_132_LSURef_full_ID.txt /home/junyuchen/Lab/23S-rRNA/Rawdata/all_ID SILVA_132_LSURef "
   ]
  },
  {
   "cell_type": "markdown",
   "metadata": {},
   "source": [
    "`primer_pair_coverage_estimator.sh`   \n",
    "统计单一引物对的覆盖度情况的整体流程"
   ]
  },
  {
   "cell_type": "code",
   "execution_count": 5,
   "metadata": {
    "collapsed": true,
    "jupyter": {
     "outputs_hidden": true
    }
   },
   "outputs": [
    {
     "name": "stdout",
     "output_type": "stream",
     "text": [
      "Usage: primer_pair_coverage_estimator.sh input_unaligned_fasta primer_f_name primer_r_name script_folder input_strain_tax input_unaligned_fasta_full_ID all_ID_folder vsearch_path gist_f fa_f_sub\n",
      "Example:sh /thinker/net/biosoft/ytan_tools/primer_pair_coverage_estimator.sh /thinker/net/biosoft/16S_ref_databases/SILVA132_EZ18_GG138/SILVA132-EZMay2018-GG13_8_merged_grouped.fa 515Yf 907r /thinker/net/biosoft/ytan_tools/ /thinker/net/biosoft/16S_ref_databases/SILVA132_EZ18_GG138/SILVA132-EZMay2018-GG13_8_merged_7LV_uniq_strain.tax /thinker/net/biosoft/16S_ref_databases/SILVA132_EZ18_GG138/SILVA132-EZMay2018-GG13_8_merged_grouped_full_ID.txt /thinker/net/biosoft/16S_ref_databases/SILVA132_EZ18_GG138/intermediate/ /thinker/net/biosoft/miniconda2/pkgs/vsearch-2.4.3-0/bin/vsearch /thinker/net/biosoft/gist-github-qiime/ SILVA132-EZMay2018-GG13_8_merged_grouped\n",
      "\n",
      "input_unaligned_fasta - The unaligned fa, all Us must be convered to Ts already.\n",
      "primer_f_name - The name of the forward primer.\n",
      "primer_r_name - The name of the reverse primer.\n",
      "script_folder - the folder of scripts.\n",
      "input_strain_tax - the strain tax file (such as SILVA132-EZMay2018-GG13_8_merged_7LV_uniq_strain.tax) of the input_unaligned_fasta.\n",
      "input_unaligned_fasta_full_ID - the full ID file (such as SILVA132-EZMay2018-GG13_8_merged_grouped_full_ID.txt) of the input_unaligned_fasta.\n",
      "all_ID_folder - the folder path of all_Dx_id_txt of all level\n",
      "vsearch_path - the path to vsearch : /thinker/net/biosoft/miniconda2/pkgs/vsearch-2.4.3-0/bin/vsearch\n",
      "gist_f - the folder of gist commands : /thinker/net/biosoft/gist-github-qiime/ \n",
      "fa_f_sub - the sub-str of fa file name：(such as SILVA132-EZMay2018-GG13_8_merged_grouped)\n"
     ]
    }
   ],
   "source": [
    "    echo \"Usage: primer_pair_coverage_estimator.sh input_unaligned_fasta primer_f_name primer_r_name script_folder input_strain_tax input_unaligned_fasta_full_ID all_ID_folder vsearch_path gist_f fa_f_sub\"\n",
    "    echo \"Example:sh /thinker/net/biosoft/ytan_tools/primer_pair_coverage_estimator.sh /thinker/net/biosoft/16S_ref_databases/SILVA132_EZ18_GG138/SILVA132-EZMay2018-GG13_8_merged_grouped.fa 515Yf 907r /thinker/net/biosoft/ytan_tools/ /thinker/net/biosoft/16S_ref_databases/SILVA132_EZ18_GG138/SILVA132-EZMay2018-GG13_8_merged_7LV_uniq_strain.tax /thinker/net/biosoft/16S_ref_databases/SILVA132_EZ18_GG138/SILVA132-EZMay2018-GG13_8_merged_grouped_full_ID.txt /thinker/net/biosoft/16S_ref_databases/SILVA132_EZ18_GG138/intermediate/ /thinker/net/biosoft/miniconda2/pkgs/vsearch-2.4.3-0/bin/vsearch /thinker/net/biosoft/gist-github-qiime/ SILVA132-EZMay2018-GG13_8_merged_grouped\"\n",
    "    echo \"\"\n",
    "    echo \"input_unaligned_fasta - The unaligned fa, all Us must be convered to Ts already.\"\n",
    "    echo \"primer_f_name - The name of the forward primer.\"\n",
    "    echo \"primer_r_name - The name of the reverse primer.\"\n",
    "    echo \"script_folder - the folder of scripts.\"\n",
    "    echo \"input_strain_tax - the strain tax file (such as SILVA132-EZMay2018-GG13_8_merged_7LV_uniq_strain.tax) of the input_unaligned_fasta.\"\n",
    "    echo \"input_unaligned_fasta_full_ID - the full ID file (such as SILVA132-EZMay2018-GG13_8_merged_grouped_full_ID.txt) of the input_unaligned_fasta.\"\n",
    "    echo \"all_ID_folder - the folder path of all_Dx_id_txt of all level\"\n",
    "    echo \"vsearch_path - the path to vsearch : /thinker/net/biosoft/miniconda2/pkgs/vsearch-2.4.3-0/bin/vsearch\"\n",
    "    echo \"gist_f - the folder of gist commands : /thinker/net/biosoft/gist-github-qiime/ \"\n",
    "    echo \"fa_f_sub - the sub-str of fa file name：(such as SILVA132-EZMay2018-GG13_8_merged_grouped)\"  "
   ]
  },
  {
   "cell_type": "markdown",
   "metadata": {},
   "source": [
    "#### step 1, analyze_primers on target fa using Primer seqs."
   ]
  },
  {
   "cell_type": "markdown",
   "metadata": {},
   "source": [
    "`analyze_primers.py`"
   ]
  },
  {
   "cell_type": "markdown",
   "metadata": {},
   "source": [
    "#### step 2, get amplicons using primer_hits."
   ]
  },
  {
   "cell_type": "markdown",
   "metadata": {},
   "source": [
    "`get_amplicons_and_reads.py`"
   ]
  },
  {
   "cell_type": "markdown",
   "metadata": {},
   "source": [
    "#### step 2.1, do coverage statistics on primers."
   ]
  },
  {
   "cell_type": "markdown",
   "metadata": {},
   "source": [
    "`extract_taxa_by_faID.R`   \n",
    "利用fa文件里面的ID去获取全长ID，最后获取实际的taxonomy列表，是文件间比对的任务。"
   ]
  },
  {
   "cell_type": "markdown",
   "metadata": {},
   "source": [
    "`coverage_calculate.R`    \n",
    "计算引物覆盖数和整体背景的比例，用于引物覆盖度计算primer_coverage_estimator.sh的流程中的2.1步骤"
   ]
  },
  {
   "cell_type": "markdown",
   "metadata": {},
   "source": [
    "### Downstream Analysis"
   ]
  },
  {
   "cell_type": "markdown",
   "metadata": {},
   "source": [
    "`Amplicon_length_analysis.py`   \n",
    "Calculate the length of amplicons.fasta generated by PrimerProspector.   \n",
    "`Python Amplicon-Analysis.py amplicons.fasta taxa.csv`   "
   ]
  },
  {
   "cell_type": "markdown",
   "metadata": {},
   "source": [
    "#### 1st Step: Run taxaID.py to get the taxa.csv\n"
   ]
  },
  {
   "cell_type": "markdown",
   "metadata": {},
   "source": [
    "`taxaID.py`   \n",
    "生成taxa-ID对应的文件"
   ]
  },
  {
   "cell_type": "markdown",
   "metadata": {},
   "source": [
    "#### 2nd Step: Run Amplicon-Analysis.py and get the final result"
   ]
  },
  {
   "cell_type": "markdown",
   "metadata": {},
   "source": [
    "`Amplicon-Analysis.py`"
   ]
  }
 ],
 "metadata": {
  "kernelspec": {
   "display_name": "Bash",
   "language": "bash",
   "name": "bash"
  },
  "language_info": {
   "codemirror_mode": "shell",
   "file_extension": ".sh",
   "mimetype": "text/x-sh",
   "name": "bash"
  }
 },
 "nbformat": 4,
 "nbformat_minor": 4
}
