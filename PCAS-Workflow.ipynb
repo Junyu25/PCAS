{
 "cells": [
  {
   "cell_type": "markdown",
   "metadata": {},
   "source": [
    "# 23S rRNA CRs&Primer Workflow"
   ]
  },
  {
   "cell_type": "markdown",
   "metadata": {},
   "source": [
    "## 0. Preprocess"
   ]
  },
  {
   "cell_type": "markdown",
   "metadata": {},
   "source": [
    "### Conda Env"
   ]
  },
  {
   "cell_type": "markdown",
   "metadata": {},
   "source": [
    "PrimerProspector:   \n",
    "`conda install primerprospector`"
   ]
  },
  {
   "cell_type": "markdown",
   "metadata": {},
   "source": [
    "### Sliva LSU"
   ]
  },
  {
   "cell_type": "markdown",
   "metadata": {},
   "source": [
    "Silva LSU 132 Full-align:   \n",
    "https://www.arb-silva.de/no_cache/download/archive/release_132/Exports/"
   ]
  },
  {
   "cell_type": "markdown",
   "metadata": {},
   "source": [
    "### Marker   \n",
    "23s_Ecoli.K-12substr.MG1655.fa_mark_order.txt"
   ]
  },
  {
   "cell_type": "markdown",
   "metadata": {},
   "source": [
    "`mark_ref_order.R`   \n",
    "对unaligned的一条序列进行位置注释"
   ]
  },
  {
   "cell_type": "markdown",
   "metadata": {},
   "source": [
    "### Split fasta&taxa"
   ]
  },
  {
   "cell_type": "markdown",
   "metadata": {},
   "source": [
    "`SILVA_2_fa_tax.py`"
   ]
  },
  {
   "cell_type": "markdown",
   "metadata": {},
   "source": [
    "## 1. CRs Finding"
   ]
  },
  {
   "cell_type": "markdown",
   "metadata": {},
   "source": [
    "`conserved_region_summary.sh`"
   ]
  },
  {
   "cell_type": "markdown",
   "metadata": {},
   "source": [
    "### step 1, check the fa file length   \n",
    "`summary_aligned_ref_length.py`   \n",
    "检查aligned_ref的长度"
   ]
  },
  {
   "cell_type": "markdown",
   "metadata": {},
   "source": [
    "### step 2, count the ATCG frequency by R   \n",
    "`count_freq_micro_database.R`   \n",
    "计算aligned_silva的每个位置的ATCG出现频率"
   ]
  },
  {
   "cell_type": "markdown",
   "metadata": {},
   "source": [
    "### step 3, summary the ATCG frequency by R and find the highly conserved region   \n",
    "`summary_freq.R`   \n",
    "对具体的ATCG比例的连贯性进行统计"
   ]
  },
  {
   "cell_type": "markdown",
   "metadata": {},
   "source": [
    "### [Optional]\n",
    "`SILVA_conserved_region_summary_loop_phylum.sh`    \n",
    "对SILVAalign的每个门下面的每个界进行保守度统计的命令"
   ]
  },
  {
   "cell_type": "markdown",
   "metadata": {},
   "source": [
    "## 2. Primer Design"
   ]
  },
  {
   "cell_type": "markdown",
   "metadata": {},
   "source": [
    "跟据23S保守序列设计引物 "
   ]
  },
  {
   "cell_type": "markdown",
   "metadata": {},
   "source": []
  },
  {
   "cell_type": "markdown",
   "metadata": {},
   "source": [
    "## 3. Primer Coverage"
   ]
  },
  {
   "cell_type": "markdown",
   "metadata": {},
   "source": [
    "Usage: `primer_coverage_estimator.sh input_unaligned_fasta primer_f primer_r script_folder input_strain_tax input_unaligned_fasta_full_ID all_ID_folder fa_f_sub` \n",
    "Example:\n",
    "```shell\n",
    "sh /thinker/net/biosoft/ytan_tools/primer_coverage_estimator.sh /thinker/net/biosoft/16S_ref_databases/SILVA132_EZ18_GG138/SILVA132-EZMay2018-GG13_8_merged_grouped.fa /thinker/net/ytan/microbiome_proj/Primer_prospector_test/primers/Primers_515Yf.txt 515Yf /thinker/net/biosoft/ytan_tools/ /thinker/net/biosoft/16S_ref_databases/SILVA132_EZ18_GG138/SILVA132-EZMay2018-GG13_8_merged_7LV_uniq_strain.tax /thinker/net/biosoft/16S_ref_databases/SILVA132_EZ18_GG138/SILVA132-EZMay2018-GG13_8_merged_grouped_full_ID.txt /thinker/net/biosoft/16S_ref_databases/SILVA132_EZ18_GG138/intermediate/ SILVA132-EZMay2018-GG13_8_merged_grouped\n",
    "```\n",
    "\n",
    "input_unaligned_fasta - The unaligned fa, all Us must be convered to Ts already.   \n",
    "primer - The path to the forward primer.   \n",
    "primer_name - The name of the forward primer.   \n",
    "script_folder - the folder of scripts.    \n",
    "input_strain_tax - the strain tax file (such as SILVA132-EZMay2018-GG13_8_merged_7LV_uniq_strain.tax) of the input_unaligned_fasta.    \n",
    "input_unaligned_fasta_full_ID - the full ID file (such as SILVA132-EZMay2018-GG13_8_merged_grouped_full_ID.txt) of the input_unaligned_fasta.   \n",
    "all_ID_folder - the folder path of all_Dx_id_txt of all level   \n",
    "fa_f_sub - the sub-str of fa file name：(such as SILVA132-EZMay2018-GG13_8_merged_grouped)   "
   ]
  },
  {
   "cell_type": "markdown",
   "metadata": {},
   "source": [
    "### Primer coverage estimator"
   ]
  },
  {
   "cell_type": "markdown",
   "metadata": {},
   "source": [
    "`primer_coverage_estimator.sh`    \n",
    "统计单一引物的覆盖度情况的整体流程\n",
    "\n",
    "`primer_pair_coverage_estimator.sh`   \n",
    "统计单一引物对的覆盖度情况的整体流程"
   ]
  },
  {
   "cell_type": "markdown",
   "metadata": {},
   "source": [
    "#### step 1, analyze_primers on target fa using Primer seqs."
   ]
  },
  {
   "cell_type": "markdown",
   "metadata": {},
   "source": [
    "`analyze_primers.py`"
   ]
  },
  {
   "cell_type": "markdown",
   "metadata": {},
   "source": [
    "#### step 2, get amplicons using primer_hits."
   ]
  },
  {
   "cell_type": "markdown",
   "metadata": {},
   "source": [
    "`get_amplicons_and_reads.py`"
   ]
  },
  {
   "cell_type": "markdown",
   "metadata": {},
   "source": [
    "#### step 2.1, do coverage statistics on primers."
   ]
  },
  {
   "cell_type": "markdown",
   "metadata": {},
   "source": [
    "`extract_taxa_by_faID.R`   \n",
    "利用fa文件里面的ID去获取全长ID，最后获取实际的taxonomy列表，是文件间比对的任务。"
   ]
  },
  {
   "cell_type": "markdown",
   "metadata": {},
   "source": [
    "`coverage_calculate.R`    \n",
    "计算引物覆盖数和整体背景的比例，用于引物覆盖度计算primer_coverage_estimator.sh的流程中的2.1步骤"
   ]
  },
  {
   "cell_type": "markdown",
   "metadata": {},
   "source": [
    "### Downstream Analysis"
   ]
  },
  {
   "cell_type": "markdown",
   "metadata": {},
   "source": [
    "`Amplicon_length_analysis.py`   \n",
    "Calculate the length of amplicons.fasta generated by PrimerProspector.   \n",
    "`Python Amplicon-Analysis.py amplicons.fasta taxa.csv`   "
   ]
  },
  {
   "cell_type": "markdown",
   "metadata": {},
   "source": [
    "#### 1st Step: Run taxaID.py to get the taxa.csv\n"
   ]
  },
  {
   "cell_type": "markdown",
   "metadata": {},
   "source": [
    "`taxaID.py`   \n",
    "生成taxa-ID对应的文件"
   ]
  },
  {
   "cell_type": "markdown",
   "metadata": {},
   "source": [
    "#### 2nd Step: Run Amplicon-Analysis.py and get the final result"
   ]
  },
  {
   "cell_type": "markdown",
   "metadata": {},
   "source": [
    "`Amplicon-Analysis.py`"
   ]
  }
 ],
 "metadata": {
  "kernelspec": {
   "display_name": "Python 3",
   "language": "python",
   "name": "python3"
  },
  "language_info": {
   "codemirror_mode": {
    "name": "ipython",
    "version": 3
   },
   "file_extension": ".py",
   "mimetype": "text/x-python",
   "name": "python",
   "nbconvert_exporter": "python",
   "pygments_lexer": "ipython3",
   "version": "3.7.6"
  }
 },
 "nbformat": 4,
 "nbformat_minor": 4
}
